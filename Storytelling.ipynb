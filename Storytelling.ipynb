{
 "cells": [
  {
   "cell_type": "markdown",
   "metadata": {
    "collapsed": true
   },
   "source": [
    "https://buzzsumo.com/blog/most-shared-headlines-study/  \n",
    "https://medium.com/the-mission/this-new-data-will-make-you-rethink-how-you-write-headlines-751358f6639a  \n",
    "https://www.analyticsvidhya.com/blog/2017/10/art-story-telling-data-science/  \n",
    "https://medium.com/@josh_2774/how-do-you-become-a-developer-5ef1c1c68711  \n",
    "http://www.storytellingwithdata.com/  "
   ]
  },
  {
   "cell_type": "code",
   "execution_count": null,
   "metadata": {},
   "outputs": [],
   "source": []
  }
 ],
 "metadata": {
  "kernelspec": {
   "display_name": "Python 3",
   "language": "python",
   "name": "python3"
  },
  "language_info": {
   "codemirror_mode": {
    "name": "ipython",
    "version": 3
   },
   "file_extension": ".py",
   "mimetype": "text/x-python",
   "name": "python",
   "nbconvert_exporter": "python",
   "pygments_lexer": "ipython3",
   "version": "3.7.1"
  }
 },
 "nbformat": 4,
 "nbformat_minor": 1
}
